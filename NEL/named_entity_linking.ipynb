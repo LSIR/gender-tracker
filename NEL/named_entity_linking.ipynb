{
 "cells": [
  {
   "cell_type": "markdown",
   "metadata": {},
   "source": [
    "# Named Entity Linking\n",
    "\n",
    "The goal is, given an article, to find all tokens (or groups of tokens) that describe the same physical person.\n",
    "\n",
    "## Imports"
   ]
  },
  {
   "cell_type": "code",
   "execution_count": 1,
   "metadata": {},
   "outputs": [],
   "source": [
    "import spacy\n",
    "from spacy.tokens import Span\n",
    "import xml.etree.ElementTree as ET"
   ]
  },
  {
   "cell_type": "code",
   "execution_count": 2,
   "metadata": {},
   "outputs": [],
   "source": [
    "# Loading language model\n",
    "nlp = spacy.load(\"fr_core_news_md\")"
   ]
  },
  {
   "cell_type": "markdown",
   "metadata": {},
   "source": [
    "## Data\n",
    "\n",
    "Loading a test article, which has the following content:\n",
    "\n",
    "Comment les chouettes effraies au plumage blanc, particulièrement visibles la nuit, parviennent-elles à attraper des proies? L’énigme était cachée dans les cycles de la lune et dans un curieux comportement de ses proies, révèle une étude lausannoise.\n",
    "\n",
    "Les nuits de pleine lune, tous les sortilèges sont de mise. Les loups-garous se déchaînent; les vampires se régénèrent; et les jeunes filles se muent en sirènes. Même les chouettes effraies (Tyto alba) sont de la partie. Comme chaque nuit, elles partent en chasse. Mais \"les nuits de pleine lune, les plus claires d’entre elles resplendissent comme des soleils\", observe __Alexandre Roulin__, de l’Université de Lausanne. Comme camouflage vis-à-vis des proies, il y a mieux!\n",
    "\n",
    "Au vrai, la chouette effraie présente, d’un individu à l’autre, une grande variété de plumages. Certains individus sont presque entièrement vêtus de roux; d’autres, de blanc (tous les intermédiaires sont possibles). Comment les chouettes les plus blanches, visibles comme le loup blanc les nuits de pleine lune, ont-elles pu survivre? Pourquoi n’ont-elles pas été supplantées par leurs congénères rousses, bien plus discrètes dans le noir? Pourquoi les lois de l’évolution les ont-elles épargnées, alors qu’elles éliminent sans pitié les plus faibles ou les moins performants?\n",
    "\n",
    "La réponse a été publiée dans la revue Nature Ecology & Evolution. Les auteurs ont exploité leur base de données, accumulées depuis trente ans en Suisse par l’équipe d’ __Alexandre Roulin__. \"Nous avons installé 400 nichoirs contre des granges et suivi le devenir de plus de 1000 couvées: œufs pondus, poids des nichées, proies rapportées chaque nuit par le mâle – qui est le seul à chasser…\" Puis les auteurs ont confronté ces données au cycle lunaire, nuit après nuit.\n",
    "\n",
    "A l’aide de caméras infrarouges, ils ont d’abord montré que les mâles rapportaient au nid, en moyenne, 4,78 proies par nuit. Mais ce nombre variait selon la couleur du plumage… et le cycle lunaire. Ainsi, les mâles les plus roux capturaient 5,67 proies les nuits de nouvelle lune, contre 3,27 seulement les nuits de pleine lune. Et les mâles les plus blancs? \"Contre toute attente, leurs performances n’étaient pas affectées par les nuits de pleine lune\", souligne __Luis San-Jose__, premier auteur de l’étude. Ils attrapaient ainsi 4,94 proies les nuits de nouvelle lune, contre 4,61 les nuits de pleine lune – une différence non significative.\n",
    "\n",
    "Ensuite, les chercheurs ont équipé les oiseaux mâles de balises GPS pour évaluer leurs succès de chasse. Résultats: quand l’effort de chasse était inférieur à la moyenne (peu de tentatives effectuées), ni la couleur du plumage, ni le cycle lunaire n’avaient d’effet. Mais quand l’effort de chasse était soutenu, tout changeait. Les mâles les plus roux voyaient 48% de leurs tentatives couronnées de succès les nuits de nouvelle lune; contre 42% les nuits de pleine lune. Mais pour les mâles les plus blancs, le cycle lunaire n’avait aucun effet sur leur taux de succès – autour de 42%.\n",
    "\n",
    "A quoi attribuer ces différences? Fallait-il regarder du côté des principales proies de cette chouette, des rongeurs? \"Nous avons capturé des campagnols des champs, que nous avons placés trois jours en cage, en faisant varier l’éclairage pour mimer les différentes phases de la lune. Dans le même temps, nous avons fait \"voler\" au-dessus de leurs têtes, à l’aide de tyroliennes, des chouettes empaillées de différentes couleurs\", raconte __Alexandre Roulin__. Résultat: les \"nuits de pleine lune\", quand la chouette était blanche, ses proies potentielles se figeaient deux fois plus longtemps que les \"nuits de nouvelle lune\". Un effet inexistant pour les chouettes rousses.\n",
    "\n",
    "\"Le plumage blanc réfléchit la lumière de la lune. Pour les rongeurs, c’est comme s’ils recevaient en pleine face la lumière du soleil reflétée par un miroir. Stressés, ils s’immobilisent. Et les chouettes blanches ont plus de facilité pour les attraper\", explique le chercheur. En somme, la chouette effraie blanche effraie mieux ses proies: elle exploite l’aversion naturelle des rongeurs pour la lumière brillante. Nul maléfice, donc, dans la couleur de cette \"dame blanche\", mais une stratégie de chasse efficace. Pourtant, cette chouette continue d’effrayer les humains. Visage blanc, vol furtif, chuintements bizarres: il n’en fallait pas plus pour faire de cet oiseau de nuit un avatar de fantôme. Dans nos campagnes, elle fut longtemps clouée aux portes des granges pour conjurer le mauvais sort. En tant que grande consommatrice de rongeurs, elle est pourtant un des meilleurs alliés de l’homme."
   ]
  },
  {
   "cell_type": "code",
   "execution_count": 3,
   "metadata": {},
   "outputs": [],
   "source": [
    "test_article_path = '../data/article01.xml'\n",
    "with open(test_article_path) as f:\n",
    "    test_article_xml = f.read()"
   ]
  },
  {
   "cell_type": "code",
   "execution_count": 4,
   "metadata": {},
   "outputs": [],
   "source": [
    "QUOTES = [\"«\", \"»\", \"“\", \"”\", \"„\", \"‹\", \"›\", \"‟\", \"〝\", \"〞\"]\n",
    "\n",
    "def normalize_quotes(text, default_quote='\"', quotes=None):\n",
    "    if quotes is None:\n",
    "        quotes = QUOTES\n",
    "    for q in quotes:\n",
    "        text = text.replace(q, default_quote)\n",
    "    return text\n",
    "\n",
    "def get_element_text(el):\n",
    "    ls = list(el.itertext())\n",
    "    text = ''.join(ls).replace('\\n', '')\n",
    "    text = ' '.join(text.split())\n",
    "    return normalize_quotes(text)\n",
    "\n",
    "def extract_paragraphs(root):\n",
    "    elements = root.findall('p')\n",
    "    return [get_element_text(el) for el in elements]\n",
    "\n",
    "root = ET.fromstring(test_article_xml)\n",
    "paragraphs = extract_paragraphs(root)\n",
    "test_article = '\\n'.join(paragraphs)"
   ]
  },
  {
   "cell_type": "code",
   "execution_count": 5,
   "metadata": {},
   "outputs": [],
   "source": [
    "doc = nlp(test_article)"
   ]
  },
  {
   "cell_type": "markdown",
   "metadata": {},
   "source": [
    "## Finding all Named Entites that are people\n",
    "\n",
    "### Initial evaluation\n",
    "\n",
    "We expect the output to be:\n",
    "* Alexandre Roulin\n",
    "* Alexandre Roulin\n",
    "* Luis San-Jose\n",
    "* Alexandre Roulin"
   ]
  },
  {
   "cell_type": "code",
   "execution_count": 6,
   "metadata": {},
   "outputs": [
    {
     "name": "stdout",
     "output_type": "stream",
     "text": [
      "Tyto\n",
      "Alexandre Roulin\n",
      "Alexandre Roulin\n",
      "Luis San\n",
      "Jose\n",
      "Alexandre Roulin\n",
      "Stressés\n"
     ]
    }
   ],
   "source": [
    "for ent in doc.ents:\n",
    "    if ent.label_ == 'PER':\n",
    "        print(ent.text)"
   ]
  },
  {
   "cell_type": "markdown",
   "metadata": {},
   "source": [
    "We notice a few things:\n",
    "* The spaCy models sees \"Tyto\" and \"Stressés\" as names, which we can't do much about.\n",
    "* Luis San-Jose has his name cut in two due to the hyphen. This we can correct.\n",
    "\n",
    "### Fixing hyphens\n",
    "\n",
    "We fix hyphens by adding a custom rule: if two named entities that are of the \"person\" type are seperated by a unique hypen, they are merged together."
   ]
  },
  {
   "cell_type": "code",
   "execution_count": 7,
   "metadata": {},
   "outputs": [
    {
     "name": "stdout",
     "output_type": "stream",
     "text": [
      "Tyto\n",
      "Alexandre Roulin\n",
      "Alexandre Roulin\n",
      "Luis San-Jose\n",
      "Alexandre Roulin\n",
      "Stressés\n"
     ]
    }
   ],
   "source": [
    "def merge_hyphen_NEs(ents):    \n",
    "    corrected_ents = []\n",
    "    prev_per_ent = None\n",
    "    for ent in ents:\n",
    "        if ent.label_ == 'PER':\n",
    "            if (prev_per_ent is not None) and \\\n",
    "            (prev_per_ent.end_char == ent.start_char - 1) and \\\n",
    "            (doc.text[prev_per_ent.end_char] == '-'):\n",
    "                # Create a new NE for the name with the hyphen\n",
    "                merged_ent = Span(doc, prev_per_ent.start, ent.end, label=\"PER\")\n",
    "                # Remove the last entity and add the new one.\n",
    "                corrected_ents[-1] = merged_ent\n",
    "            else:\n",
    "                corrected_ents.append(ent)\n",
    "            prev_per_ent = ent\n",
    "        else:\n",
    "            corrected_ents.append(ent)\n",
    "            prev_per_ent = None\n",
    "    return corrected_ents\n",
    "\n",
    "doc.ents = merge_hyphen_NEs(doc.ents)\n",
    "for ent in doc.ents:\n",
    "    if ent.label_ == 'PER':\n",
    "        print(ent.text)"
   ]
  },
  {
   "cell_type": "markdown",
   "metadata": {},
   "source": [
    "## Grouping Names\n",
    "\n",
    "We want to group the different ways that someone can be mentioned into unique entities.\n",
    "\n",
    "Each person NE in the document is mapped to the longest form of the name of the person."
   ]
  },
  {
   "cell_type": "code",
   "execution_count": 14,
   "metadata": {},
   "outputs": [],
   "source": [
    "all_names = ['Alexandre', 'Roulin', 'Alexandre Roulin', 'Luis', 'San-Jose', 'Luis San-Jose']"
   ]
  },
  {
   "cell_type": "code",
   "execution_count": 15,
   "metadata": {},
   "outputs": [
    {
     "name": "stdout",
     "output_type": "stream",
     "text": [
      "['Alexandre Roulin', 'Luis San-Jose', 'Alexandre', 'Roulin', 'Luis', 'San-Jose']\n"
     ]
    }
   ],
   "source": [
    "all_names.sort(key=lambda x: -len(x.split(' ')))\n",
    "print(all_names)"
   ]
  },
  {
   "cell_type": "code",
   "execution_count": 37,
   "metadata": {},
   "outputs": [
    {
     "name": "stdout",
     "output_type": "stream",
     "text": [
      "people found: {'Luis San-Jose', 'Alexandre Roulin'} \n",
      "\n",
      "Name:      Alexandre Roulin\n",
      "Full Name: Alexandre Roulin\n",
      "\n",
      "Name:      Luis San-Jose\n",
      "Full Name: Luis San-Jose\n",
      "\n",
      "Name:      Alexandre\n",
      "Full Name: Alexandre Roulin\n",
      "\n",
      "Name:      Roulin\n",
      "Full Name: Alexandre Roulin\n",
      "\n",
      "Name:      Luis\n",
      "Full Name: Luis San-Jose\n",
      "\n",
      "Name:      San-Jose\n",
      "Full Name: Luis San-Jose\n",
      "\n"
     ]
    }
   ],
   "source": [
    "people = set()\n",
    "full_names = {}\n",
    "\n",
    "def is_substring(person, name):\n",
    "    person_tokens = person.split(' ')\n",
    "    name_tokens = name.split(' ')\n",
    "    for i in range(len(person_tokens)):\n",
    "        matching_tokens = 0\n",
    "        j = 0\n",
    "        while (i + j) < len(person_tokens) and \\\n",
    "                j < len(name_tokens) and \\\n",
    "                person_tokens[i + j] == name_tokens[j]:\n",
    "            j = j + 1\n",
    "        if j == len(name_tokens):\n",
    "            return True\n",
    "    return False\n",
    "        \n",
    "\n",
    "def find_full_name(all_people, name):\n",
    "    for person in all_people:\n",
    "        if is_substring(person, name):\n",
    "            return person\n",
    "    return name\n",
    "\n",
    "for name in all_names:\n",
    "    if name not in people:\n",
    "        full_name = find_full_name(people, name)\n",
    "        full_names[name] = full_name\n",
    "        if name == full_name:\n",
    "            people.add(name)\n",
    "\n",
    "print('people found:', people, '\\n')\n",
    "for name in full_names:\n",
    "    print(f'Name:      {name}\\nFull Name: {full_names[name]}\\n')"
   ]
  },
  {
   "cell_type": "markdown",
   "metadata": {},
   "source": [
    "## Possible Improvements\n",
    "\n",
    "* Linking elements such as A. Roulin to Alexandre Roulin.\n",
    "* Distinguishing between people with the same last name."
   ]
  },
  {
   "cell_type": "code",
   "execution_count": null,
   "metadata": {},
   "outputs": [],
   "source": []
  }
 ],
 "metadata": {
  "kernelspec": {
   "display_name": "Python 3",
   "language": "python",
   "name": "python3"
  },
  "language_info": {
   "codemirror_mode": {
    "name": "ipython",
    "version": 3
   },
   "file_extension": ".py",
   "mimetype": "text/x-python",
   "name": "python",
   "nbconvert_exporter": "python",
   "pygments_lexer": "ipython3",
   "version": "3.7.4"
  }
 },
 "nbformat": 4,
 "nbformat_minor": 2
}
