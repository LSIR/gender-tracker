{
 "cells": [
  {
   "cell_type": "markdown",
   "metadata": {},
   "source": [
    "# Quotation Extraction: Version 2\n",
    "## 0 Imports"
   ]
  },
  {
   "cell_type": "code",
   "execution_count": 1,
   "metadata": {},
   "outputs": [],
   "source": [
    "import numpy\n",
    "import csv\n",
    "# spaCy\n",
    "import spacy\n",
    "# spaCy Visualizer\n",
    "from spacy import displacy"
   ]
  },
  {
   "cell_type": "markdown",
   "metadata": {},
   "source": [
    "## 1 Text processing\n",
    "### 1.1 Loading and cleaning the text file\n",
    "Loads the article, removes all new line characters and replaces all variants of quotes by a unique one. Puts the text through the NLP pipeline.\n",
    "\n",
    "I have also noticed that the model doesn't deal with \";\" symbols to seperate sentences, which it sometimes treats as the end of the sentence and sometimes not. I replace them with commas (\",\")."
   ]
  },
  {
   "cell_type": "code",
   "execution_count": 2,
   "metadata": {},
   "outputs": [],
   "source": [
    "quotes = [\"«\", \"»\", \"“\", \"”\", \"„\", \"‹\", \"›\", \"‟\", \"〝\", \"〞\"]\n",
    "\n",
    "# Replace all formats of quotation marks by the quotation mark <\">\n",
    "def normalize_quotes(text):\n",
    "    for q in quotes:\n",
    "        text = text.replace(q, '\"')\n",
    "    return text\n",
    "\n",
    "\n",
    "with open('../data/article.txt', 'r') as file:\n",
    "    text = normalize_quotes(file.read().replace('\\n', ' '))\n",
    "    text = text.replace(\";\", \",\")\n",
    "\n",
    "nlp = spacy.load(\"fr_core_news_md\")\n",
    "doc = nlp(text)"
   ]
  },
  {
   "cell_type": "markdown",
   "metadata": {},
   "source": [
    "### 1.2 Splitting text into sentences\n",
    "Splits the text into a list of sentences"
   ]
  },
  {
   "cell_type": "code",
   "execution_count": 3,
   "metadata": {},
   "outputs": [],
   "source": [
    "sentences = list(doc.sents)"
   ]
  },
  {
   "cell_type": "markdown",
   "metadata": {},
   "source": [
    "## 2 Loading Model Parameters\n",
    "### 2.1 Loading cue verbs"
   ]
  },
  {
   "cell_type": "code",
   "execution_count": 4,
   "metadata": {},
   "outputs": [
    {
     "name": "stdout",
     "output_type": "stream",
     "text": [
      "{'constater', 'concevoir', 'remarquer', 'déclarer', 'proposer', 'noter', 'prouver', 'abonder', 'calculer', \"mettre l'accent sur\", 'analyser', 'dénoncer', 'définir', 'considérer', 'identifier', 'prôner', 'suggérer', 'préciser', 'déplorer', 'élaborer', 'formuler', 'estimer', 'recenser', 'répondre', 'résumer', 'rapporter', 'exprimer', 'établir', 'découvrir', 'soutenir', 'adopter', \"s'interroger\", 'commenter', 'prétendre', 'présenter', 'raconter', 'ajouter', 'reconnaître', 'relever', 'souligner', 'observer', 'montrer', 'affirmer', 'annoncer', 'démontrer', 'écrire', 'expliquer', 'proclamer', 'citer', 'corroborer', 'dire', 'donner', 'décrire', 'mettre en évidence', 'publier', 'crier', 'étudier', 'insister'}\n"
     ]
    }
   ],
   "source": [
    "with open('../data/cue_verbs.csv', 'r') as f:\n",
    "    reader = csv.reader(f)\n",
    "    cue_verbs = set(list(reader)[0])\n",
    "\n",
    "print(cue_verbs)"
   ]
  },
  {
   "cell_type": "markdown",
   "metadata": {},
   "source": [
    "### 2.2 Loading Quotations Structures\n",
    "The quotation structures are stored in a CSV file, respecting the following format. All Part-Of-Speech elements are abbreviated as follows.\n",
    "* RS: Reported Speech\n",
    "* CV: Cue Verb\n",
    "* QT: Quotee\n",
    "* text: distinct words\n",
    "One structure per line, with each element seperated by a comma."
   ]
  },
  {
   "cell_type": "code",
   "execution_count": 5,
   "metadata": {},
   "outputs": [
    {
     "name": "stdout",
     "output_type": "stream",
     "text": [
      "[['parataxis', 'obj', 'ancestor'], ['parataxis', 'nsubj', 'ancestor'], ['ROOT', 'obj', 'advcl']]\n"
     ]
    }
   ],
   "source": [
    "with open('../data/quote_structures.csv', 'r') as f:\n",
    "    reader = csv.reader(f)\n",
    "    structures = list(reader)\n",
    "\n",
    "print(structures)"
   ]
  },
  {
   "cell_type": "markdown",
   "metadata": {},
   "source": [
    "## 3 Finding quote containing sentences\n",
    "### 3.1 Finding sentences containing cue verbs"
   ]
  },
  {
   "cell_type": "code",
   "execution_count": 6,
   "metadata": {},
   "outputs": [
    {
     "name": "stdout",
     "output_type": "stream",
     "text": [
      "Mais \"les nuits de pleine lune, les plus claires d’entre elles resplendissent comme des soleils\", observe Alexandre Roulin, de l’Université de Lausanne. \n",
      "\n",
      "La réponse a été publiée dans la revue Nature Ecology & Evolution. \n",
      "\n",
      "\"Nous avons installé 400 nichoirs contre des granges et suivi le devenir de plus de 1000 couvées: œufs pondus, poids des nichées, proies rapportées chaque nuit par le mâle – qui est le seul à chasser…\" \n",
      "\n",
      "A l’aide de caméras infrarouges, ils ont d’abord montré que les mâles rapportaient au nid, en moyenne, 4,78 proies par nuit. \n",
      "\n",
      "\"Contre toute attente, leurs performances n’étaient pas affectées par les nuits de pleine lune\", souligne Luis San-Jose, premier auteur de l’étude. \n",
      "\n",
      "Mais quand l’effort de chasse était soutenu, tout changeait. \n",
      "\n",
      "Dans le même temps, nous avons fait \"voler\" au-dessus de leurs têtes, à l’aide de tyroliennes, des chouettes empaillées de différentes couleurs\", raconte Alexandre Roulin. \n",
      "\n",
      "Et les chouettes blanches ont plus de facilité pour les attraper\", explique le chercheur. \n",
      "\n"
     ]
    }
   ],
   "source": [
    "# Returns true iff the sentence contains quotation marks.\n",
    "def contains_cue(sentence):\n",
    "    for token in sentence:\n",
    "        if token.lemma_ in cue_verbs:\n",
    "            return True\n",
    "\n",
    "\n",
    "cues = []\n",
    "        \n",
    "for s in sentences:\n",
    "    if contains_cue(s):\n",
    "        cues.append(s)\n",
    "        print(s, \"\\n\")"
   ]
  },
  {
   "cell_type": "markdown",
   "metadata": {},
   "source": [
    "### 3.2 Determining which sentences contain quotes\n",
    "Using the structures and cue verbs that were manually found, for each sentence containing a cue verb we output if a quote was found, or if no quote is in the sentence."
   ]
  },
  {
   "cell_type": "code",
   "execution_count": 8,
   "metadata": {
    "scrolled": true
   },
   "outputs": [
    {
     "name": "stdout",
     "output_type": "stream",
     "text": [
      "Sentence:\n",
      "\n",
      "Mais \"les nuits de pleine lune, les plus claires d’entre elles resplendissent comme des soleils\", observe Alexandre Roulin, de l’Université de Lausanne. \n",
      "\n",
      "The result was:\n",
      "\n",
      "Alexandre Roulin said Mais \"les nuits de pleine lune, les plus claires d’entre elles resplendissent comme des soleils\", .  \n",
      "\n",
      "\n",
      "\n",
      "Sentence:\n",
      "\n",
      "La réponse a été publiée dans la revue Nature Ecology & Evolution. \n",
      "\n",
      "The result was:\n",
      "\n",
      "No quote in this sentence \n",
      "\n",
      "\n",
      "\n",
      "Sentence:\n",
      "\n",
      "\"Nous avons installé 400 nichoirs contre des granges et suivi le devenir de plus de 1000 couvées: œufs pondus, poids des nichées, proies rapportées chaque nuit par le mâle – qui est le seul à chasser…\" \n",
      "\n",
      "The result was:\n",
      "\n",
      "No quote in this sentence \n",
      "\n",
      "\n",
      "\n",
      "Sentence:\n",
      "\n",
      "A l’aide de caméras infrarouges, ils ont d’abord montré que les mâles rapportaient au nid, en moyenne, 4,78 proies par nuit. \n",
      "\n",
      "The result was:\n",
      "\n",
      "No quote in this sentence \n",
      "\n",
      "\n",
      "\n",
      "Sentence:\n",
      "\n",
      "\"Contre toute attente, leurs performances n’étaient pas affectées par les nuits de pleine lune\", souligne Luis San-Jose, premier auteur de l’étude. \n",
      "\n",
      "The result was:\n",
      "\n",
      "Luis San said \"Contre toute attente, leurs performances n’étaient pas affectées par les nuits de pleine lune\", .  \n",
      "\n",
      "\n",
      "\n",
      "Sentence:\n",
      "\n",
      "Mais quand l’effort de chasse était soutenu, tout changeait. \n",
      "\n",
      "The result was:\n",
      "\n",
      "No quote in this sentence \n",
      "\n",
      "\n",
      "\n",
      "Sentence:\n",
      "\n",
      "Dans le même temps, nous avons fait \"voler\" au-dessus de leurs têtes, à l’aide de tyroliennes, des chouettes empaillées de différentes couleurs\", raconte Alexandre Roulin. \n",
      "\n",
      "The result was:\n",
      "\n",
      "Alexandre Roulin said Dans le même temps, nous avons fait \"voler\" au-dessus de leurs têtes, à l’aide de tyroliennes, des chouettes empaillées de différentes couleurs\", .  \n",
      "\n",
      "\n",
      "\n",
      "Sentence:\n",
      "\n",
      "Et les chouettes blanches ont plus de facilité pour les attraper\", explique le chercheur. \n",
      "\n",
      "The result was:\n",
      "\n",
      "le chercheur said Et les chouettes blanches ont plus de facilité pour les attraper\" \n",
      "\n",
      "\n",
      "\n"
     ]
    }
   ],
   "source": [
    "def extract_cue(sentence):\n",
    "    for token in sentence:\n",
    "        if token.lemma_ in cue_verbs:\n",
    "            return token\n",
    "\n",
    "def extract_quotee(token):\n",
    "    quotee = \"\"\n",
    "    for t in token.subtree:\n",
    "        quotee += t.text + t.whitespace_\n",
    "    return quotee\n",
    "\n",
    "def quote_text(token, cv_dep):\n",
    "    quote = \"\"\n",
    "    for t in token.lefts:\n",
    "        if t.dep_ != cv_dep:\n",
    "            quote += quote_text(t, cv_dep)\n",
    "    quote += token.text + token.whitespace_\n",
    "    for t in token.rights:\n",
    "        if t.dep_ != cv_dep:\n",
    "            quote += quote_text(t, cv_dep)\n",
    "    return quote\n",
    "\n",
    "def is_quote(sentence):\n",
    "    if contains_cue(sentence):\n",
    "        cv = extract_cue(sentence)\n",
    "        children = list(map(lambda t:t.dep_, list(cv.children)))\n",
    "        for struct in structures:\n",
    "            cv_dep = struct[0]\n",
    "            qt_pos = struct[1]\n",
    "            q_pos = struct[2]\n",
    "            if cv.dep_ == cv_dep and qt_pos in children:\n",
    "                for child in cv.children:\n",
    "                    if child.dep_ == qt_pos:\n",
    "                        qt_token = child\n",
    "                quotee = extract_quotee(qt_token)\n",
    "                if q_pos == \"ancestor\":\n",
    "                    quote = quote_text(next(cv.ancestors), cv_dep)\n",
    "                else:\n",
    "                    for child in cv.children:\n",
    "                        if child.dep_ == q_pos:\n",
    "                            q_token = child\n",
    "                    quote = quote_text(q_token, cv_dep)\n",
    "                return quotee + \" said \" + quote\n",
    "    return \"No quote in this sentence\"\n",
    "\n",
    "for s in cues:\n",
    "    print(\"Sentence:\\n\")\n",
    "    print(s.text, \"\\n\")\n",
    "    print(\"The result was:\\n\")\n",
    "    print(is_quote(s), \"\\n\\n\\n\")"
   ]
  },
  {
   "cell_type": "code",
   "execution_count": null,
   "metadata": {},
   "outputs": [],
   "source": []
  }
 ],
 "metadata": {
  "kernelspec": {
   "display_name": "Python 3",
   "language": "python",
   "name": "python3"
  },
  "language_info": {
   "codemirror_mode": {
    "name": "ipython",
    "version": 3
   },
   "file_extension": ".py",
   "mimetype": "text/x-python",
   "name": "python",
   "nbconvert_exporter": "python",
   "pygments_lexer": "ipython3",
   "version": "3.7.4"
  }
 },
 "nbformat": 4,
 "nbformat_minor": 2
}
