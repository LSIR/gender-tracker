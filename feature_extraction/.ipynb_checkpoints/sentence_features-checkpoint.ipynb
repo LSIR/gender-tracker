{
 "cells": [
  {
   "cell_type": "markdown",
   "metadata": {},
   "source": [
    "# Extraction of features for quote detection\n",
    "## Imports"
   ]
  },
  {
   "cell_type": "code",
   "execution_count": 4,
   "metadata": {},
   "outputs": [],
   "source": [
    "import numpy as np\n",
    "import spacy\n",
    "\n",
    "nlp = spacy.load(\"fr_core_news_md\")"
   ]
  },
  {
   "cell_type": "markdown",
   "metadata": {},
   "source": [
    "## Constants\n",
    "### SpaCy POS tags"
   ]
  },
  {
   "cell_type": "code",
   "execution_count": 16,
   "metadata": {},
   "outputs": [
    {
     "name": "stdout",
     "output_type": "stream",
     "text": [
      "['CCONJ', 'VERB', 'DET', 'NOUN', 'ADP', 'ADJ', 'NOUN', 'PUNCT', 'DET', 'ADV']\n",
      "[89, 100, 90, 92, 85, 84, 92, 97, 90, 86]\n",
      "[5, 16, 6, 8, 1, 0, 8, 13, 6, 2, 0, 5, 1, 11, 16, 1, 6, 8, 13, 13, 16, 12, 12, 13, 1, 6, 8, 1, 12, 13]\n",
      "['CCONJ___', 'VERB__Mood=Ind|Number=Plur|Person=3|Tense=Imp|VerbForm=Fin']\n",
      "[8673025306212932083, 12284149216315539529]\n"
     ]
    }
   ],
   "source": [
    "POS_TAGS = ['ADJ', 'ADP', 'ADV', 'AUX', 'CONJ', 'CCONJ', 'DET',\\\n",
    "            'INTJ', 'NOUN', 'NUM', 'PART', 'PRON', 'PROPN', 'PUNCT',\\\n",
    "            'SCONJ', 'SYM', 'VERB', 'X', 'SPACE']\n",
    "\n",
    "NE_PER = 'PER'\n",
    "\n",
    "sentence = 'Mais «les nuits de pleine lune, les plus claires d’entre elles resplendissent '\\\n",
    "            'comme des soleils», observe Alexandre Roulin, de l’Université de Lausanne.'\n",
    "\n",
    "s = nlp(sentence)\n",
    "\n",
    "pos_tags = []\n",
    "pos_tags_int = []\n",
    "pos_tag_feature = []\n",
    "tag_tags = []\n",
    "tag_tags_int = []\n",
    "\n",
    "for token in s:\n",
    "    pos_tags.append(token.pos_)\n",
    "    pos_tags_int.append(token.pos)\n",
    "    pos_tag_feature.append(POS_TAGS.index(token.pos_))\n",
    "    tag_tags.append(token.tag_)\n",
    "    tag_tags_int.append(token.tag)\n",
    "    \n",
    "print(pos_tags[:10])\n",
    "print(pos_tags_int[:10])\n",
    "print(pos_tag_feature)\n",
    "print(tag_tags[:2])\n",
    "print(tag_tags_int[:2])"
   ]
  },
  {
   "cell_type": "markdown",
   "metadata": {},
   "source": [
    "## Feature Extraction\n",
    "Given a sentence that needs to be classified as either a quote or not a quote, the sentences central verb (called the \"target\") needs to be extracted.\n",
    "\n",
    "### Lexical Features"
   ]
  },
  {
   "cell_type": "code",
   "execution_count": 3,
   "metadata": {},
   "outputs": [],
   "source": [
    "def lexical_features(target):\n",
    "    \"\"\"\n",
    "    Unigram and bigram versions of the token, lemma, and POS tags\n",
    "    within a window of 5 tokens either side of the target, all indexed\n",
    "    by position.\n",
    "    \n",
    "    :param target: The target verb\n",
    "    \"\"\"\n",
    "    \n",
    "    return 0"
   ]
  },
  {
   "cell_type": "markdown",
   "metadata": {},
   "source": [
    "### Sentence Features"
   ]
  },
  {
   "cell_type": "code",
   "execution_count": null,
   "metadata": {},
   "outputs": [],
   "source": [
    "def sentence_features(sentence):\n",
    "    \"\"\"\n",
    "    Features indicating whether the sentence contains a quotation mark, a\n",
    "    named entity, a verb-cue, or a pronoun, as well as a sentence length\n",
    "    feature.\n",
    "    \n",
    "    :param sentence:\n",
    "    \"\"\"\n",
    "    return 0"
   ]
  },
  {
   "cell_type": "markdown",
   "metadata": {},
   "source": [
    "### Dependency Features"
   ]
  },
  {
   "cell_type": "code",
   "execution_count": null,
   "metadata": {},
   "outputs": [],
   "source": [
    "def dependency_features(target):\n",
    "    \"\"\"\n",
    "    Features for the relation with parent, the relation with any dependants,\n",
    "    and versions of these that included the head and dependant token.\n",
    "    \n",
    "    :param target: The target verb\n",
    "    \"\"\"\n",
    "    return 0"
   ]
  },
  {
   "cell_type": "markdown",
   "metadata": {},
   "source": [
    "### External Knowledge Features"
   ]
  },
  {
   "cell_type": "code",
   "execution_count": null,
   "metadata": {},
   "outputs": [],
   "source": [
    "def external_features(target):\n",
    "    \"\"\"\n",
    "    Position-indexed features for whether any of the tokens in the sentence\n",
    "    match a known role, organisation, or title.\n",
    "    \n",
    "    :param sentence:\n",
    "    \"\"\"\n",
    "    return 0"
   ]
  },
  {
   "cell_type": "markdown",
   "metadata": {},
   "source": [
    "### Other Features"
   ]
  },
  {
   "cell_type": "code",
   "execution_count": null,
   "metadata": {},
   "outputs": [],
   "source": [
    "def other_features(target):\n",
    "    \"\"\"\n",
    "    Features for whether the target is within quotation marks, and for whether\n",
    "    there is a verb-cue near the end of the sentence.\n",
    "    \n",
    "    :param target: The target verb\n",
    "    \"\"\"\n",
    "    return 0"
   ]
  },
  {
   "cell_type": "markdown",
   "metadata": {},
   "source": [
    "## Extracting a word vector"
   ]
  },
  {
   "cell_type": "code",
   "execution_count": 19,
   "metadata": {},
   "outputs": [
    {
     "name": "stdout",
     "output_type": "stream",
     "text": [
      "Mais\n",
      "[ 0.277226  0.600244 -0.540657 -2.277228 -0.145105 -0.707782]\n",
      "300\n"
     ]
    }
   ],
   "source": [
    "example_token = s[0]\n",
    "print(example_token.text)\n",
    "print(example_token.vector[:6])\n",
    "print(len(example_token.vector))"
   ]
  },
  {
   "cell_type": "code",
   "execution_count": null,
   "metadata": {},
   "outputs": [],
   "source": []
  }
 ],
 "metadata": {
  "kernelspec": {
   "display_name": "Python 3",
   "language": "python",
   "name": "python3"
  },
  "language_info": {
   "codemirror_mode": {
    "name": "ipython",
    "version": 3
   },
   "file_extension": ".py",
   "mimetype": "text/x-python",
   "name": "python",
   "nbconvert_exporter": "python",
   "pygments_lexer": "ipython3",
   "version": "3.7.4"
  }
 },
 "nbformat": 4,
 "nbformat_minor": 2
}
