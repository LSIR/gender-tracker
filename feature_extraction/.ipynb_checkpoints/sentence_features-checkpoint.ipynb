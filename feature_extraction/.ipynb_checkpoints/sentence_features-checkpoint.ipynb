{
 "cells": [
  {
   "cell_type": "markdown",
   "metadata": {},
   "source": [
    "# Extraction of features for quote detection\n",
    "## Imports"
   ]
  },
  {
   "cell_type": "code",
   "execution_count": 1,
   "metadata": {},
   "outputs": [],
   "source": [
    "import numpy as np\n",
    "import spacy\n",
    "\n",
    "nlp = spacy.load(\"fr_core_news_md\")"
   ]
  },
  {
   "cell_type": "markdown",
   "metadata": {},
   "source": [
    "## Constants\n",
    "### SpaCy POS tags"
   ]
  },
  {
   "cell_type": "code",
   "execution_count": null,
   "metadata": {},
   "outputs": [],
   "source": [
    "POS_TAGS = ['ADJ', 'ADP', 'ADV', 'AUX', 'CONJ', 'CCONJ', 'DET',\\\n",
    "            'INTJ', 'NOUN', 'NUM', 'PART', 'PRON', 'PROPN', 'PUNCT',\\\n",
    "            'SCONJ', 'SYM', 'VERB', 'X', 'SPACE']\n",
    "\n",
    "NE_PER = 'PER'"
   ]
  },
  {
   "cell_type": "markdown",
   "metadata": {},
   "source": [
    "## Feature Extraction\n",
    "Given a sentence that needs to be classified as either a quote or not a quote, the sentences central verb (called the \"target\") needs to be extracted.\n",
    "\n",
    "### Lexical Features"
   ]
  },
  {
   "cell_type": "code",
   "execution_count": null,
   "metadata": {},
   "outputs": [],
   "source": [
    "def lexical_features(target):\n",
    "    \"\"\"\n",
    "    Unigram and bigram versions of the token, lemma, and POS tags\n",
    "    within a window of 5 tokens either side of the target, all indexed\n",
    "    by position.\n",
    "    \n",
    "    :param target: The target verb\n",
    "    \"\"\"\n",
    "    \n",
    "    return 0"
   ]
  },
  {
   "cell_type": "markdown",
   "metadata": {},
   "source": [
    "### Sentence Features"
   ]
  },
  {
   "cell_type": "code",
   "execution_count": null,
   "metadata": {},
   "outputs": [],
   "source": [
    "def sentence_features(sentence):\n",
    "    \"\"\"\n",
    "    Features indicating whether the sentence contains a quotation mark, a\n",
    "    named entity, a verb-cue, or a pronoun, as well as a sentence length\n",
    "    feature.\n",
    "    \n",
    "    :param sentence:\n",
    "    \"\"\"\n",
    "    return 0"
   ]
  },
  {
   "cell_type": "markdown",
   "metadata": {},
   "source": [
    "### Dependency Features"
   ]
  },
  {
   "cell_type": "code",
   "execution_count": null,
   "metadata": {},
   "outputs": [],
   "source": [
    "def dependency_features(target):\n",
    "    \"\"\"\n",
    "    Features for the relation with parent, the relation with any dependants,\n",
    "    and versions of these that included the head and dependant token.\n",
    "    \n",
    "    :param target: The target verb\n",
    "    \"\"\"\n",
    "    return 0"
   ]
  },
  {
   "cell_type": "markdown",
   "metadata": {},
   "source": [
    "### External Knowledge Features"
   ]
  },
  {
   "cell_type": "code",
   "execution_count": null,
   "metadata": {},
   "outputs": [],
   "source": [
    "def external_features(target):\n",
    "    \"\"\"\n",
    "    Position-indexed features for whether any of the tokens in the sentence\n",
    "    match a known role, organisation, or title.\n",
    "    \n",
    "    :param sentence:\n",
    "    \"\"\"\n",
    "    return 0"
   ]
  },
  {
   "cell_type": "markdown",
   "metadata": {},
   "source": [
    "### Other Features"
   ]
  },
  {
   "cell_type": "code",
   "execution_count": null,
   "metadata": {},
   "outputs": [],
   "source": [
    "def other_features(target):\n",
    "    \"\"\"\n",
    "    Features for whether the target is within quotation marks, and for whether\n",
    "    there is a verb-cue near the end of the sentence.\n",
    "    \n",
    "    :param target: The target verb\n",
    "    \"\"\"\n",
    "    return 0"
   ]
  }
 ],
 "metadata": {
  "kernelspec": {
   "display_name": "Python 3",
   "language": "python",
   "name": "python3"
  },
  "language_info": {
   "codemirror_mode": {
    "name": "ipython",
    "version": 3
   },
   "file_extension": ".py",
   "mimetype": "text/x-python",
   "name": "python",
   "nbconvert_exporter": "python",
   "pygments_lexer": "ipython3",
   "version": "3.7.4"
  }
 },
 "nbformat": 4,
 "nbformat_minor": 2
}
